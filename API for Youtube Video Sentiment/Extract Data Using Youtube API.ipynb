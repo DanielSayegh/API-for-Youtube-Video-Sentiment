{
 "cells": [
  {
   "cell_type": "code",
   "execution_count": 1,
   "metadata": {
    "id": "BkqEbyrrSd5D"
   },
   "outputs": [],
   "source": [
    "#import libraries\n",
    "import requests\n",
    "import pandas as pd\n",
    "import time"
   ]
  },
  {
   "cell_type": "code",
   "execution_count": 2,
   "metadata": {
    "id": "yN5zGnx7XMNa"
   },
   "outputs": [],
   "source": [
    "#Keys\n",
    "API_KEY = \"\" #Enter your API Key here\n",
    "CHANNEL_ID = \"\" #Enter Channel ID for Channel you want to grab information from"
   ]
  },
  {
   "cell_type": "code",
   "execution_count": 3,
   "metadata": {
    "id": "PuvL2HsqoJ8J"
   },
   "outputs": [],
   "source": [
    "def get_video_details(video_id):\n",
    "\n",
    "    #collecting view, like,comment counts(as of the creation of this project, Youtube has removed the ability to see dislike count on Youtube videos)\n",
    "    url_video_stats = \"https://www.googleapis.com/youtube/v3/videos?id=\"+video_id+\"&part=statistics&key=\"+API_KEY\n",
    "    response_video_stats = requests.get(url_video_stats).json()\n",
    "\n",
    "    view_count = response_video_stats['items'][0]['statistics']['viewCount']\n",
    "    like_count = response_video_stats['items'][0]['statistics']['likeCount']\n",
    "    ###dislike_count = response_video_stats['items'][0]['statistics']['dislikeCount']\n",
    "    comment_count = response_video_stats['items'][0]['statistics']['commentCount']\n",
    "\n",
    "    return view_count, like_count,comment_count"
   ]
  },
  {
   "cell_type": "code",
   "execution_count": 4,
   "metadata": {
    "id": "8l13hjKIdduW"
   },
   "outputs": [],
   "source": [
    "def get_videos(df):\n",
    "    pageToken = \"\"\n",
    "    while 1:\n",
    "        url = \"https://www.googleapis.com/youtube/v3/search?key=\"+API_KEY+\"&channelId=\"+CHANNEL_ID+\"&part=snippet,id&order=date&maxResults=10000&\"+pageToken\n",
    "\n",
    "        response = requests.get(url).json()\n",
    "        time.sleep(1) \n",
    "        for video in response['items']:\n",
    "            if video['id']['kind'] == \"youtube#video\":\n",
    "                video_id = video['id']['videoId']\n",
    "                video_title = video['snippet']['title']\n",
    "                video_title = str(video_title).replace(\"&amp;\",\"\")\n",
    "                upload_date = video['snippet']['publishedAt']\n",
    "                upload_date = str(upload_date).split(\"T\")[0]\n",
    "                view_count, like_count,comment_count = get_video_details(video_id)\n",
    "\n",
    "                df = df.append({'video_id':video_id,'video_title':video_title,\n",
    "                                \"upload_date\":upload_date,\"view_count\":view_count,\n",
    "                                \"like_count\":like_count,\n",
    "                                \"comment_count\":comment_count},ignore_index=True)\n",
    "        try:\n",
    "            #Check if there is a next page, if not, break out \n",
    "            if response['nextPageToken'] != None: \n",
    "                pageToken = \"pageToken=\" + response['nextPageToken']\n",
    "\n",
    "        except:\n",
    "            break\n",
    "\n",
    "\n",
    "    return df"
   ]
  },
  {
   "cell_type": "code",
   "execution_count": 5,
   "metadata": {
    "id": "v1NMEFet6kRC"
   },
   "outputs": [],
   "source": [
    "#main\n",
    "\n",
    "#build our dataframe\n",
    "df = pd.DataFrame(columns=[\"video_id\",\"video_title\",\"upload_date\",\"view_count\",\"like_count\",\"comment_count\"]) \n",
    "\n",
    "df = get_videos(df)"
   ]
  },
  {
   "cell_type": "code",
   "execution_count": 7,
   "metadata": {
    "colab": {
     "base_uri": "https://localhost:8080/",
     "height": 419
    },
    "id": "laI5tSLSvkSx",
    "outputId": "2a575507-d2d6-4668-807a-a401a800b154"
   },
   "outputs": [
    {
     "data": {
      "text/html": [
       "<div>\n",
       "<style scoped>\n",
       "    .dataframe tbody tr th:only-of-type {\n",
       "        vertical-align: middle;\n",
       "    }\n",
       "\n",
       "    .dataframe tbody tr th {\n",
       "        vertical-align: top;\n",
       "    }\n",
       "\n",
       "    .dataframe thead th {\n",
       "        text-align: right;\n",
       "    }\n",
       "</style>\n",
       "<table border=\"1\" class=\"dataframe\">\n",
       "  <thead>\n",
       "    <tr style=\"text-align: right;\">\n",
       "      <th></th>\n",
       "      <th>video_id</th>\n",
       "      <th>video_title</th>\n",
       "      <th>upload_date</th>\n",
       "      <th>view_count</th>\n",
       "      <th>like_count</th>\n",
       "      <th>comment_count</th>\n",
       "    </tr>\n",
       "  </thead>\n",
       "  <tbody>\n",
       "    <tr>\n",
       "      <th>0</th>\n",
       "      <td>ZNCb-BFe7Xk</td>\n",
       "      <td>I tried to make an award show... I got roasted...</td>\n",
       "      <td>2022-01-04</td>\n",
       "      <td>534303</td>\n",
       "      <td>28687</td>\n",
       "      <td>632</td>\n",
       "    </tr>\n",
       "    <tr>\n",
       "      <th>1</th>\n",
       "      <td>HLbUUBl1NPU</td>\n",
       "      <td>React Streamers have gone too far...</td>\n",
       "      <td>2022-01-02</td>\n",
       "      <td>673518</td>\n",
       "      <td>36545</td>\n",
       "      <td>1767</td>\n",
       "    </tr>\n",
       "    <tr>\n",
       "      <th>2</th>\n",
       "      <td>vVyhrtuz0r4</td>\n",
       "      <td>This VTuber Challenged me... she didn&amp;#39;t re...</td>\n",
       "      <td>2022-01-01</td>\n",
       "      <td>726240</td>\n",
       "      <td>44505</td>\n",
       "      <td>1403</td>\n",
       "    </tr>\n",
       "    <tr>\n",
       "      <th>3</th>\n",
       "      <td>viqLJiJ3-uk</td>\n",
       "      <td>the funniest tik toks of 2021</td>\n",
       "      <td>2021-12-31</td>\n",
       "      <td>641093</td>\n",
       "      <td>34727</td>\n",
       "      <td>623</td>\n",
       "    </tr>\n",
       "    <tr>\n",
       "      <th>4</th>\n",
       "      <td>HspbLVenr7Q</td>\n",
       "      <td>Can you peel a raw egg?</td>\n",
       "      <td>2021-12-30</td>\n",
       "      <td>719606</td>\n",
       "      <td>50132</td>\n",
       "      <td>1570</td>\n",
       "    </tr>\n",
       "    <tr>\n",
       "      <th>...</th>\n",
       "      <td>...</td>\n",
       "      <td>...</td>\n",
       "      <td>...</td>\n",
       "      <td>...</td>\n",
       "      <td>...</td>\n",
       "      <td>...</td>\n",
       "    </tr>\n",
       "    <tr>\n",
       "      <th>496</th>\n",
       "      <td>xKTJxzgdi2w</td>\n",
       "      <td>LAST TO LAUGH WINS $2000</td>\n",
       "      <td>2019-11-13</td>\n",
       "      <td>1308137</td>\n",
       "      <td>35126</td>\n",
       "      <td>524</td>\n",
       "    </tr>\n",
       "    <tr>\n",
       "      <th>497</th>\n",
       "      <td>YObMPFwhEPg</td>\n",
       "      <td>MY SECRET BEST FRIEND</td>\n",
       "      <td>2019-11-10</td>\n",
       "      <td>135396</td>\n",
       "      <td>3309</td>\n",
       "      <td>119</td>\n",
       "    </tr>\n",
       "    <tr>\n",
       "      <th>498</th>\n",
       "      <td>riGjrYWCvZ4</td>\n",
       "      <td>How I became the fastest masher in the world</td>\n",
       "      <td>2019-11-08</td>\n",
       "      <td>1801809</td>\n",
       "      <td>54338</td>\n",
       "      <td>1492</td>\n",
       "    </tr>\n",
       "    <tr>\n",
       "      <th>499</th>\n",
       "      <td>du70TojOi_A</td>\n",
       "      <td>YOU CANNOT LAUGH</td>\n",
       "      <td>2019-10-24</td>\n",
       "      <td>2960572</td>\n",
       "      <td>66097</td>\n",
       "      <td>1030</td>\n",
       "    </tr>\n",
       "    <tr>\n",
       "      <th>500</th>\n",
       "      <td>q-EQwdF8B38</td>\n",
       "      <td>Ludwig Reacts to Tik Tok</td>\n",
       "      <td>2019-10-13</td>\n",
       "      <td>761164</td>\n",
       "      <td>17677</td>\n",
       "      <td>588</td>\n",
       "    </tr>\n",
       "  </tbody>\n",
       "</table>\n",
       "<p>501 rows × 6 columns</p>\n",
       "</div>"
      ],
      "text/plain": [
       "        video_id                                        video_title  \\\n",
       "0    ZNCb-BFe7Xk  I tried to make an award show... I got roasted...   \n",
       "1    HLbUUBl1NPU               React Streamers have gone too far...   \n",
       "2    vVyhrtuz0r4  This VTuber Challenged me... she didn&#39;t re...   \n",
       "3    viqLJiJ3-uk                      the funniest tik toks of 2021   \n",
       "4    HspbLVenr7Q                            Can you peel a raw egg?   \n",
       "..           ...                                                ...   \n",
       "496  xKTJxzgdi2w                           LAST TO LAUGH WINS $2000   \n",
       "497  YObMPFwhEPg                              MY SECRET BEST FRIEND   \n",
       "498  riGjrYWCvZ4       How I became the fastest masher in the world   \n",
       "499  du70TojOi_A                                   YOU CANNOT LAUGH   \n",
       "500  q-EQwdF8B38                           Ludwig Reacts to Tik Tok   \n",
       "\n",
       "    upload_date view_count like_count comment_count  \n",
       "0    2022-01-04     534303      28687           632  \n",
       "1    2022-01-02     673518      36545          1767  \n",
       "2    2022-01-01     726240      44505          1403  \n",
       "3    2021-12-31     641093      34727           623  \n",
       "4    2021-12-30     719606      50132          1570  \n",
       "..          ...        ...        ...           ...  \n",
       "496  2019-11-13    1308137      35126           524  \n",
       "497  2019-11-10     135396       3309           119  \n",
       "498  2019-11-08    1801809      54338          1492  \n",
       "499  2019-10-24    2960572      66097          1030  \n",
       "500  2019-10-13     761164      17677           588  \n",
       "\n",
       "[501 rows x 6 columns]"
      ]
     },
     "execution_count": 7,
     "metadata": {},
     "output_type": "execute_result"
    }
   ],
   "source": [
    "df"
   ]
  },
  {
   "cell_type": "code",
   "execution_count": 8,
   "metadata": {
    "id": "t8laAmHlY7Qw"
   },
   "outputs": [],
   "source": [
    "df.to_csv('youtube_vids.csv')"
   ]
  }
 ],
 "metadata": {
  "colab": {
   "name": "extracting_data_from_youtube_api.ipynb",
   "provenance": []
  },
  "kernelspec": {
   "display_name": "Python 3",
   "language": "python",
   "name": "python3"
  },
  "language_info": {
   "codemirror_mode": {
    "name": "ipython",
    "version": 3
   },
   "file_extension": ".py",
   "mimetype": "text/x-python",
   "name": "python",
   "nbconvert_exporter": "python",
   "pygments_lexer": "ipython3",
   "version": "3.8.8"
  }
 },
 "nbformat": 4,
 "nbformat_minor": 4
}
